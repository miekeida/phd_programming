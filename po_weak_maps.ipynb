{
 "cells": [
  {
   "cell_type": "code",
   "execution_count": 1,
   "id": "887becfd",
   "metadata": {},
   "outputs": [
    {
     "name": "stdout",
     "output_type": "stream",
     "text": [
      "  ___   ____   ____    _    ____\n",
      " / _ \\ / ___| / ___|  / \\  |  _ \\   |  Combining ANTIC, GAP, Polymake, Singular\n",
      "| | | |\\___ \\| |     / _ \\ | |_) |  |  Type \"?Oscar\" for more information\n",
      "| |_| | ___) | |___ / ___ \\|  _ <   |  Manual: https://docs.oscar-system.org\n",
      " \\___/ |____/ \\____/_/   \\_\\_| \\_\\  |  Version 1.3.1\n"
     ]
    }
   ],
   "source": [
    "using Oscar\n",
    "using Combinatorics\n",
    "n_elements = 7;\n",
    "rk = 3;\n",
    "db = Polymake.Polydb.get_db();\n",
    "collection = db[\"Matroids.Small\"];\n",
    "query = Dict(\"RANK\"=>rk,\"N_ELEMENTS\"=>n_elements);\n",
    "results = Polymake.Polydb.find(collection, query);\n",
    "oscar_matroids = [Matroid(pm) for pm in results];\n"
   ]
  },
  {
   "cell_type": "code",
   "execution_count": 2,
   "id": "74b28390",
   "metadata": {},
   "outputs": [
    {
     "name": "stdout",
     "output_type": "stream",
     "text": [
      "33443\n"
     ]
    }
   ],
   "source": [
    "all_matroids =Matroid[];\n",
    "counter =0\n",
    "ground_set = [i for i in 1:n_elements];\n",
    "permuts = permutations(ground_set);\n",
    "for m in oscar_matroids\n",
    "    iso= [];\n",
    "    for perm in permuts\n",
    "        #println(\"current permutation is\")\n",
    "        #println(perm)\n",
    "        current_b = Set();\n",
    "        #println(current_b);\n",
    "\n",
    "        for b in bases(m)\n",
    "            #println(\"current base is\" )\n",
    "            #println(b)\n",
    "            permuted_b = Set()\n",
    "            for e in b\n",
    "                push!(permuted_b, perm[e])\n",
    "            end\n",
    "            push!(current_b, permuted_b);\n",
    "        end\n",
    "        current_b = Set([Set(b) for b in current_b])\n",
    "    if !(current_b in iso)\n",
    "        push!(iso, current_b);\n",
    "        counter = counter +1;\n",
    "            #println(iso)\n",
    "            #println(iso);\n",
    "    end\n",
    "    end \n",
    "    for m in iso\n",
    "        push!(all_matroids, (matroid_from_bases(m, n_elements)))      \n",
    "    end\n",
    "   \n",
    "end\n",
    "\n",
    "dummy = matroid_from_bases([[]], n_elements)\n",
    "# insert a dummy to make indices of subs and all_matroids fit. The dummy in subs2 is needed to have an artificial minimum\n",
    "insert!(all_matroids, 1, dummy)\n",
    "#details: add \n",
    "N = length(all_matroids)\n",
    "println(N)\n"
   ]
  },
  {
   "cell_type": "code",
   "execution_count": null,
   "id": "fefb4c32",
   "metadata": {},
   "outputs": [
    {
     "name": "stdout",
     "output_type": "stream",
     "text": [
      "SmallBitSet{UInt64}([2])\n"
     ]
    },
    {
     "data": {
      "text/plain": [
       "true"
      ]
     },
     "execution_count": 5,
     "metadata": {},
     "output_type": "execute_result"
    }
   ],
   "source": [
    "# check if a poset admits a rank function\n",
    "\n",
    "# The poset p is encoded as a vector of elements that can be compared with <\n",
    "# p must have a least element, stored as p[1]\n",
    "\n",
    "# true if y covers x in p\n",
    "covers(p, y, x) = x < y && !any(z -> x < z < y, p)\n",
    "\n",
    "# the length of some maximal chain in p from p[1] to x\n",
    "getrank(p, x) = x == p[1] ? 0 : getdist(p, p[1], x)\n",
    "\n",
    "# the length of some maximal chain in p from x to y where x < y\n",
    "function getdist(p, x, y)\n",
    "    i = findfirst(z -> x < z < y, p)\n",
    "    i === nothing ? 1 : getdist(p, x, p[i]) + getdist(p, p[i], y)\n",
    "end\n",
    "\n",
    "# true if p has a rank function\n",
    "function hasrank(p)\n",
    "    r = map(x -> getrank(p, x), p)\n",
    "    for (i, x) in enumerate(p), (j, y) in enumerate(p)\n",
    "         !covers(p, y, x) || r[j] == r[i]+1 || return [i, j, r[i], r[j], covers(p, y, x)]\n",
    "    end\n",
    "    true\n",
    "end\n",
    "\n",
    "# example: the poset of all subsets of some set\n",
    "\n",
    "using Random: randperm\n",
    "using SmallCollections: SmallBitSet, subsets\n",
    "\n",
    "const S = SmallBitSet{UInt32}\n",
    "\n",
    "N = 11\n",
    "q = subsets(N) # all subsets of 1:N in colexicographic ordering\n",
    "r = randperm(length(q))\n",
    "println(q[3])\n",
    "# random permutation of all subsets of 1:N, but with the empty set as first element\n",
    "p = S[i == 1 || r[i] == 1 ? q[i] : q[r[i]] for i in 1:length(q)]\n",
    "# for sets, `<` means proper subset\n",
    "\n",
    "hasrank(p)  # true\n"
   ]
  },
  {
   "cell_type": "code",
   "execution_count": null,
   "id": "cf11d0a7",
   "metadata": {},
   "outputs": [
    {
     "name": "stdout",
     "output_type": "stream",
     "text": [
      "20×29 IncidenceMatrix\n",
      "[1, 2, 4, 5, 7, 8, 11, 12, 13, 15, 18, 21, 23, 24, 26, 28]\n",
      "[2, 4, 5, 6, 7, 11, 12, 14, 15, 17, 28, 29]\n",
      "[1, 2, 3, 4, 6, 9, 11, 18, 19, 21, 23, 24]\n",
      "[1, 2, 4, 6, 7, 11, 12, 14, 15, 18, 19, 21]\n",
      "[2, 3, 6, 10, 11, 12, 14, 15, 16, 18, 19, 21, 23, 27, 28, 29]\n",
      "[1, 3, 4, 5, 6, 7, 9, 11, 12, 14, 16, 17, 19, 20, 21, 25, 26]\n",
      "[3, 5, 6, 10, 11, 12, 14, 16, 17, 25, 28, 29]\n",
      "[3, 5, 10, 11, 12, 13, 16, 21, 23, 25, 26, 28]\n",
      "[1, 3, 4, 5, 9, 11, 13, 21, 23, 24, 25, 26]\n",
      "[2, 8, 10, 13, 15, 18, 22, 23, 24, 27, 28, 29]\n",
      "[1, 4, 5, 7, 8, 9, 13, 17, 20, 22, 24, 25, 26]\n",
      "[1, 3, 8, 9, 10, 13, 16, 18, 19, 20, 21, 22, 23, 24, 25, 26, 27]\n",
      "[5, 7, 8, 10, 12, 13, 14, 15, 16, 17, 20, 22, 25, 26, 27, 28, 29]\n",
      "[3, 6, 9, 10, 14, 16, 17, 19, 20, 22, 25, 27, 29]\n",
      "[1, 2, 4, 6, 7, 8, 9, 14, 15, 17, 18, 19, 20, 22, 24, 27, 29]\n",
      "[1, 7, 8, 12, 14, 15, 16, 18, 19, 20, 21, 26, 27]\n",
      "[8, 10, 12, 13, 15, 16, 18, 21, 23, 26, 27, 28]\n",
      "[2, 4, 5, 7, 8, 13, 15, 17, 22, 24, 28, 29]\n",
      "[2, 3, 6, 9, 10, 18, 19, 22, 23, 24, 27, 29]\n",
      "[2, 3, 4, 5, 6, 9, 10, 11, 13, 17, 22, 23, 24, 25, 28, 29]\n",
      "\n",
      "21×28 IncidenceMatrix\n",
      "[1, 2, 4, 5, 7, 8, 11, 12, 13, 15, 18, 20, 22, 23, 25, 27]\n",
      "[1, 2, 3, 4, 6, 9, 11, 18, 19, 20, 22, 23]\n",
      "[1, 3, 4, 5, 9, 11, 13, 20, 22, 23, 24, 25]\n",
      "[1, 2, 4, 6, 7, 11, 12, 14, 15, 18, 19, 20]\n",
      "[2, 4, 5, 6, 7, 11, 12, 14, 15, 17, 27, 28]\n",
      "[2, 3, 6, 10, 11, 12, 14, 15, 16, 18, 19, 20, 22, 26, 27, 28]\n",
      "[1, 3, 4, 5, 6, 7, 9, 11, 12, 14, 16, 17, 19, 20, 24, 25]\n",
      "[3, 5, 10, 11, 12, 13, 16, 20, 22, 24, 25, 27]\n",
      "[3, 5, 6, 10, 11, 12, 14, 16, 17, 24, 27, 28]\n",
      "[1, 2, 4, 6, 7, 8, 9, 14, 15, 17, 18, 19, 21, 23, 26, 28]\n",
      "[2, 4, 5, 7, 8, 13, 15, 17, 21, 23, 27, 28]\n",
      "[1, 7, 8, 12, 14, 15, 16, 18, 19, 20, 25, 26]\n",
      "[1, 7, 8, 9, 14, 16, 17, 19, 21, 24, 25, 26]\n",
      "[2, 3, 6, 9, 10, 18, 19, 21, 22, 23, 26, 28]\n",
      "[1, 3, 8, 9, 10, 13, 16, 18, 19, 20, 21, 22, 23, 24, 25, 26]\n",
      "[3, 6, 9, 10, 14, 16, 17, 19, 21, 24, 26, 28]\n",
      "[2, 8, 10, 13, 15, 18, 21, 22, 23, 26, 27, 28]\n",
      "[8, 10, 12, 13, 15, 16, 18, 20, 22, 25, 26, 27]\n",
      "[1, 4, 5, 7, 8, 9, 13, 17, 21, 23, 24, 25]\n",
      "[5, 7, 8, 10, 12, 13, 14, 15, 16, 17, 21, 24, 25, 26, 27, 28]\n",
      "[2, 3, 4, 5, 6, 9, 10, 11, 13, 17, 21, 22, 23, 24, 27, 28]\n",
      "\n"
     ]
    }
   ],
   "source": [
    "using Polymake\n",
    "p = polytope.Polytope(POINTS = [1 1 0 0 0 1 0; 0 1 1 0 1 0 0; 0 1 0 1 0 0 1; 0 1 1 0 0 1 0; 0 0 1 1 0 1 0; 0 1 1 0 0 0 1; 1 0 1 0 0 1 0; 1 0 0 0 1 1 0; 0 1 0 0 0 1 1; 0 0 0 1 1 0 1; 0 1 1 1 0 0 0; 1 0 1 1 0 0 0; 0 0 0 1 1 1 0; 1 0 1 0 0 0 1; 1 0 1 0 1 0 0; 1 0 0 1 0 0 1; 0 0 1 0 0 1 1; 1 1 0 0 1 0 0; 1 1 0 0 0 0 1; 1 0 0 0 0 1 1; 1 1 0 1 0 0 0; 0 0 0 0 1 1 1; 0 1 0 1 1 0 0; 0 1 0 0 1 1 0; 0 0 0 1 0 1 1; 1 0 0 1 0 1 0; 1 0 0 0 1 0 1; 0 0 1 1 1 0 0; 0 0 1 0 1 0 1\n",
    "])\n",
    "T = p.VERTICES_IN_FACETS;\n",
    "q = polytope.Polytope(POINTS = [1 1 0 0 0 1 0; 0 1 1 0 1 0 0; 0 1 0 1 0 0 1; 0 1 1 0 0 1 0; 0 0 1 1 0 1 0; 0 1 1 0 0 0 1; 1 0 1 0 0 1 0; 1 0 0 0 1 1 0; 0 1 0 0 0 1 1; 0 0 0 1 1 0 1; 0 1 1 1 0 0 0; 1 0 1 1 0 0 0; 0 0 0 1 1 1 0; 1 0 1 0 0 0 1; 1 0 1 0 1 0 0; 1 0 0 1 0 0 1; 0 0 1 0 0 1 1; 1 1 0 0 1 0 0; 1 1 0 0 0 0 1; 1 1 0 1 0 0 0; 0 0 0 0 1 1 1; 0 1 0 1 1 0 0; 0 1 0 0 1 1 0; 0 0 0 1 0 1 1; 1 0 0 1 0 1 0; 1 0 0 0 1 0 1; 0 0 1 1 1 0 0; 0 0 1 0 1 0 1\n",
    "])\n",
    "F = q.VERTICES_IN_FACETS;\n",
    "println(T)\n",
    "println(F)\n",
    "for kk in T\n",
    "    if !(kk in F)\n",
    "        println(kk)\n",
    "    end\n",
    "end"
   ]
  },
  {
   "cell_type": "code",
   "execution_count": null,
   "id": "fa03ca27",
   "metadata": {},
   "outputs": [
    {
     "name": "stdout",
     "output_type": "stream",
     "text": [
      "7\n",
      "Set([5, 16, 7, 25, 12, 17, 1, 19, 4, 6, 21, 11, 9, 26, 14, 3])\n",
      "[[3, 4, 6], [1, 4, 7], [1, 3, 6], [4, 6, 7], [1, 3, 4], [3, 6, 7], [1, 2, 6], [1, 2, 7], [2, 3, 6], [2, 3, 7], [1, 2, 4], [2, 3, 4], [2, 6, 7], [1, 4, 6], [1, 3, 7], [2, 4, 7]]\n",
      "10\n",
      "Set([29, 7, 24, 8, 17, 1, 19, 22, 4, 6, 15, 2, 27, 18, 9, 14])\n",
      "[[3, 5, 7], [1, 3, 6], [2, 5, 6], [1, 5, 6], [3, 6, 7], [1, 2, 6], [1, 2, 7], [5, 6, 7], [2, 3, 6], [2, 3, 7], [1, 3, 5], [2, 3, 5], [1, 5, 7], [1, 2, 5], [2, 6, 7], [1, 3, 7]]\n",
      "12\n",
      "Set([16, 7, 12, 8, 1, 19, 15, 21, 27, 18, 26, 14])\n",
      "[[1, 4, 7], [1, 3, 6], [1, 3, 4], [1, 5, 6], [1, 2, 6], [1, 2, 7], [1, 3, 5], [1, 2, 4], [1, 5, 7], [1, 2, 5], [1, 4, 6], [1, 3, 7]]\n",
      "13\n",
      "Set([16, 7, 25, 8, 17, 1, 19, 22, 27, 9, 26, 14])\n",
      "[[1, 4, 7], [1, 3, 6], [4, 6, 7], [1, 5, 6], [3, 6, 7], [1, 2, 6], [1, 2, 7], [5, 6, 7], [1, 5, 7], [2, 6, 7], [1, 4, 6], [1, 3, 7]]\n",
      "15\n",
      "Set([16, 25, 24, 8, 1, 19, 22, 13, 23, 21, 10, 18, 9, 26, 27, 3])\n",
      "[[1, 4, 7], [4, 6, 7], [2, 5, 6], [1, 5, 6], [1, 2, 6], [1, 2, 7], [5, 6, 7], [4, 5, 6], [2, 4, 5], [1, 2, 4], [4, 5, 7], [1, 2, 5], [2, 6, 7], [1, 4, 6], [1, 5, 7], [2, 4, 7]]\n",
      "16\n",
      "Set([16, 29, 25, 17, 19, 22, 6, 10, 27, 9, 14, 3])\n",
      "[[1, 4, 7], [3, 5, 7], [4, 6, 7], [3, 6, 7], [1, 2, 7], [5, 6, 7], [2, 3, 7], [4, 5, 7], [1, 5, 7], [2, 6, 7], [1, 3, 7], [2, 4, 7]]\n",
      "19\n",
      "Set([5, 7, 25, 24, 8, 17, 1, 22, 4, 13, 9, 26])\n",
      "[[3, 4, 6], [1, 3, 6], [4, 6, 7], [2, 5, 6], [1, 5, 6], [3, 6, 7], [1, 2, 6], [5, 6, 7], [2, 3, 6], [4, 5, 6], [2, 6, 7], [1, 4, 6]]\n",
      "20\n",
      "Set([5, 16, 7, 25, 29, 12, 28, 8, 17, 22, 13, 15, 10, 27, 26, 14])\n",
      "[[3, 4, 6], [1, 4, 7], [1, 3, 6], [4, 6, 7], [3, 5, 7], [1, 3, 4], [3, 4, 5], [1, 5, 6], [3, 6, 7], [5, 6, 7], [4, 5, 6], [1, 3, 5], [4, 5, 7], [1, 5, 7], [1, 4, 6], [1, 3, 7]]\n"
     ]
    }
   ],
   "source": [
    "# Definiere die Sets\n",
    "#bigger set\n",
    "K = [Set([1, 2, 4, 5, 7, 8, 11, 12, 13, 15, 18, 21, 23, 24, 26, 28])\n",
    "Set([2, 4, 5, 6, 7, 11, 12, 14, 15, 17, 28, 29])\n",
    "Set([1, 2, 3, 4, 6, 9, 11, 18, 19, 21, 23, 24])\n",
    "Set([1, 2, 4, 6, 7, 11, 12, 14, 15, 18, 19, 21])\n",
    "Set([2, 3, 6, 10, 11, 12, 14, 15, 16, 18, 19, 21, 23, 27, 28, 29])\n",
    "Set([1, 3, 4, 5, 6, 7, 9, 11, 12, 14, 16, 17, 19, 20, 21, 25, 26])#\n",
    "Set([3, 5, 6, 10, 11, 12, 14, 16, 17, 25, 28, 29])\n",
    "Set([3, 5, 10, 11, 12, 13, 16, 21, 23, 25, 26, 28])\n",
    "Set([1, 3, 4, 5, 9, 11, 13, 21, 23, 24, 25, 26])\n",
    "Set([2, 8, 10, 13, 15, 18, 22, 23, 24, 27, 28, 29])\n",
    "Set([1, 4, 5, 7, 8, 9, 13, 17, 20, 22, 24, 25, 26])\n",
    "Set([1, 3, 8, 9, 10, 13, 16, 18, 19, 20, 21, 22, 23, 24, 25, 26, 27])\n",
    "Set([5, 7, 8, 10, 12, 13, 14, 15, 16, 17, 20, 22, 25, 26, 27, 28, 29])\n",
    "Set([3, 6, 9, 10, 14, 16, 17, 19, 20, 22, 25, 27, 29])\n",
    "Set([1, 2, 4, 6, 7, 8, 9, 14, 15, 17, 18, 19, 20, 22, 24, 27, 29])\n",
    "Set([1, 7, 8, 12, 14, 15, 16, 18, 19, 20, 21, 26, 27])\n",
    "Set([8, 10, 12, 13, 15, 16, 18, 21, 23, 26, 27, 28])\n",
    "Set([2, 4, 5, 7, 8, 13, 15, 17, 22, 24, 28, 29])\n",
    "Set([2, 3, 6, 9, 10, 18, 19, 22, 23, 24, 27, 29])\n",
    "Set([2, 3, 4, 5, 6, 9, 10, 11, 13, 17, 22, 23, 24, 25, 28, 29])]\n",
    "#smaller set\n",
    "L = [Set([1, 2, 4, 5, 7, 8, 11, 12, 13, 15, 18, 20, 22, 23, 25, 27])\n",
    "Set([1, 2, 3, 4, 6, 9, 11, 18, 19, 20, 22, 23])\n",
    "Set([1, 3, 4, 5, 9, 11, 13, 20, 22, 23, 24, 25])\n",
    "Set([1, 2, 4, 6, 7, 11, 12, 14, 15, 18, 19, 20])\n",
    "Set([2, 4, 5, 6, 7, 11, 12, 14, 15, 17, 27, 28])\n",
    "Set([2, 3, 6, 10, 11, 12, 14, 15, 16, 18, 19, 20, 22, 26, 27, 28])\n",
    "Set([1, 3, 4, 5, 6, 7, 9, 11, 12, 14, 16, 17, 19, 20, 24, 25])#\n",
    "Set([3, 5, 10, 11, 12, 13, 16, 20, 22, 24, 25, 27])\n",
    "Set([3, 5, 6, 10, 11, 12, 14, 16, 17, 24, 27, 28])\n",
    "Set([1, 2, 4, 6, 7, 8, 9, 14, 15, 17, 18, 19, 21, 23, 26, 28])\n",
    "Set([2, 4, 5, 7, 8, 13, 15, 17, 21, 23, 27, 28]) #Set([2, 4, 5, 6, 7, 11, 12, 14, 15, 17, 28, 29])\n",
    "Set([1, 7, 8, 12, 14, 15, 16, 18, 19, 20, 25, 26])#\n",
    "Set([1, 7, 8, 9, 14, 16, 17, 19, 21, 24, 25, 26])#\n",
    "Set([2, 3, 6, 9, 10, 18, 19, 21, 22, 23, 26, 28])#\n",
    "Set([1, 3, 8, 9, 10, 13, 16, 18, 19, 20, 21, 22, 23, 24, 25, 26])\n",
    "Set([3, 6, 9, 10, 14, 16, 17, 19, 21, 24, 26, 28])\n",
    "Set([2, 8, 10, 13, 15, 18, 21, 22, 23, 26, 27, 28])\n",
    "Set([8, 10, 12, 13, 15, 16, 18, 20, 22, 25, 26, 27])\n",
    "Set([1, 4, 5, 7, 8, 9, 13, 17, 21, 23, 24, 25])\n",
    "Set([5, 7, 8, 10, 12, 13, 14, 15, 16, 17, 21, 24, 25, 26, 27, 28])\n",
    "Set([2, 3, 4, 5, 6, 9, 10, 11, 13, 17, 21, 22, 23, 24, 27, 28])]\n",
    "for kset in L\n",
    "    liste = []\n",
    "    for i in 20:29\n",
    "        if i in kset\n",
    "            delete!(kset, i)\n",
    "            push!(liste, i+1)\n",
    "           \n",
    "        end\n",
    "    end\n",
    "    for j in liste\n",
    "            push!(kset, j)\n",
    "        \n",
    "    end\n",
    "end\n",
    "# Funktion, um zu überprüfen, ob ein Set aus L in einem Set aus K enthalten ist\n",
    "function check_subset(K, L)\n",
    "    list1 = []\n",
    "    list2 = []\n",
    "    for (i, k_set) in enumerate(K)\n",
    "        for (j, l_set) in enumerate(L)\n",
    "            if Set(l_set)== Set(k_set)\n",
    "                push!(list1, i)\n",
    "                push!(list2, j)\n",
    "                \n",
    "            end\n",
    "        end\n",
    "    end\n",
    "    return list1, list2\n",
    "end\n",
    "\n",
    "# Beispielaufruf\n",
    "\n",
    "K2 = [[1, 2, 6], [2, 3, 5], [2, 4, 7], [2, 3, 6], [3, 4, 6], [2, 3, 7], [1, 3, 6], [1, 5, 6], [2, 6, 7], [4, 5, 7], [2, 3, 4], [1, 3, 4], [4, 5, 6], [1, 3, 7], [1, 3, 5], [1, 4, 7], [3, 6, 7], [1, 2, 5], [1, 2, 7], [1, 6, 7], [1, 2, 4], [5, 6, 7], [2, 4, 5], [2, 5, 6], [4, 6, 7], [1, 4, 6], [1, 5, 7], [3, 4, 5], [3, 5, 7]]\n",
    "L2 = [[1, 2, 6], [2, 3, 5], [2, 4, 7], [2, 3, 6], [3, 4, 6], [2, 3, 7], [1, 3, 6], [1, 5, 6], [2, 6, 7], [4, 5, 7], [2, 3, 4], [1, 3, 4], [4, 5, 6], [1, 3, 7], [1, 3, 5], [1, 4, 7], [3, 6, 7], [1, 2, 5], [1, 2, 7], [1, 2, 4], [5, 6, 7], [2, 4, 5], [2, 5, 6], [4, 6, 7], [1, 4, 6], [1, 5, 7], [3, 4, 5], [3, 5, 7]]\n",
    "\n",
    "#prints facets which are not facets of K\n",
    "for r in 1:21\n",
    "    if !(r in check_subset(K, L)[2])\n",
    "        println([K2[i] for i in L[r]])\n",
    "    end\n",
    "end\n",
    "\n"
   ]
  },
  {
   "cell_type": "code",
   "execution_count": 6,
   "id": "c394058a",
   "metadata": {},
   "outputs": [
    {
     "data": {
      "text/plain": [
       "el (generic function with 1 method)"
      ]
     },
     "execution_count": 6,
     "metadata": {},
     "output_type": "execute_result"
    }
   ],
   "source": [
    "#encodes a given subset of 1,2,..n as a number in 1,... (n_elemnts choose r)\n",
    "function el(b)\n",
    "    possible_b = collect(combinations(1:n_elements, rk))\n",
    "    index = -2\n",
    "    for (l, x) in enumerate(possible_b)\n",
    "        if x == b\n",
    "            index = l\n",
    "        end\n",
    "    end\n",
    "    return index\n",
    "end\n"
   ]
  },
  {
   "cell_type": "code",
   "execution_count": 10,
   "id": "bd69a74b",
   "metadata": {},
   "outputs": [],
   "source": [
    "subs= [SmallBitSet{UInt64}([])]\n",
    "for matroid in all_matroids[2:length(all_matroids)]\n",
    "    subset = SmallBitSet{UInt64}([])\n",
    "    for basis in bases(matroid)\n",
    "        a = el(basis)\n",
    "        b = [a]\n",
    "        b = SmallBitSet{UInt64}(b)\n",
    "        subset = union(subset, b)\n",
    "    end\n",
    "    push!(subs, subset) # ????\n",
    "end\n",
    "#details: add \n"
   ]
  },
  {
   "cell_type": "code",
   "execution_count": 11,
   "id": "9c4873ed",
   "metadata": {},
   "outputs": [
    {
     "data": {
      "text/plain": [
       "5-element Vector{Int64}:\n",
       " 4518\n",
       " 1158\n",
       "   10\n",
       "   10\n",
       "    1"
      ]
     },
     "execution_count": 11,
     "metadata": {},
     "output_type": "execute_result"
    }
   ],
   "source": [
    "hasrank(subs)\n",
    "\n"
   ]
  },
  {
   "cell_type": "code",
   "execution_count": null,
   "id": "2ea46fa2",
   "metadata": {},
   "outputs": [],
   "source": []
  },
  {
   "cell_type": "code",
   "execution_count": 13,
   "id": "e0ddd562",
   "metadata": {},
   "outputs": [
    {
     "name": "stdout",
     "output_type": "stream",
     "text": [
      "4728\n",
      "30\n",
      "4728\n",
      "4728\n",
      "true\n",
      "30\n",
      "length of meet\n",
      "31\n",
      "9\n",
      "9\n",
      "5358\n",
      "4728\n"
     ]
    }
   ],
   "source": [
    "function find_min(p, a, b)\n",
    "    minim = 1\n",
    "    for (i, z) in enumerate(p)\n",
    "        if z < a && z < b && subs[i]> subs[minim] && ! (z == a ) && !(z==b) \n",
    "            minim = i\n",
    "        end\n",
    "    end\n",
    "    return minim\n",
    "end\n",
    "\n",
    "liste = []\n",
    "#for (i, z) in enumerate(p)\n",
    "#    if z < p[4518] && z < p[1158] && z > p] \n",
    "#        liste.append\n",
    "#    end\n",
    "#end\n",
    "println(find_min(subs,subs[4518], subs[1158]))\n",
    "M = all_matroids[4728]\n",
    "println(length(bases(M)))\n",
    "\n",
    "\n",
    "#M = all_matroids[\n",
    "println(find_min(subs,subs[4518], subs[1158]))\n",
    "println(find_min(subs,subs[4518], subs[1158]))\n",
    "println(is_connected(M))\n",
    "println(length(bases(M)))\n",
    "findfirst(z -> subs[4728] < z < subs[1158], subs)\n",
    "println(\"length of meet\")\n",
    "println(length(bases(all_matroids[3258])))\n",
    "println(getrank(subs, subs[4728]))\n",
    "println(getrank(subs, subs[3258]))\n",
    "println(find_min(subs, subs[4728], subs[1158]))\n",
    "println(findfirst(z -> subs[5358] < z < subs[3258], subs))\n"
   ]
  },
  {
   "cell_type": "code",
   "execution_count": null,
   "id": "cb1d93f2",
   "metadata": {},
   "outputs": [
    {
     "name": "stdout",
     "output_type": "stream",
     "text": [
      "[[1, 2, 6], [2, 3, 5], [3, 4, 7], [2, 5, 7], [2, 3, 6], [2, 3, 7], [1, 3, 6], [2, 4, 6], [1, 5, 6], [2, 6, 7], [4, 5, 7], [2, 3, 4], [1, 3, 4], [1, 3, 7], [1, 4, 7], [1, 3, 5], [3, 5, 6], [4, 5, 6], [3, 6, 7], [1, 2, 5], [1, 2, 7], [1, 6, 7], [1, 2, 4], [5, 6, 7], [2, 4, 5], [4, 6, 7], [1, 4, 6], [1, 5, 7], [3, 4, 5]]\n",
      "[[1, 2, 6], [2, 3, 5], [3, 4, 7], [2, 5, 7], [2, 3, 6], [2, 3, 7], [1, 3, 6], [2, 4, 6], [1, 5, 6], [2, 6, 7], [4, 5, 7], [2, 3, 4], [1, 3, 4], [1, 3, 7], [1, 4, 7], [1, 3, 5], [3, 5, 6], [4, 5, 6], [3, 6, 7], [1, 2, 5], [1, 2, 7], [1, 6, 7], [1, 2, 4], [5, 6, 7], [2, 4, 5], [2, 5, 6], [4, 6, 7], [1, 4, 6], [1, 5, 7], [3, 4, 5]]\n",
      "[[1, 2, 6], [2, 3, 5], [3, 4, 7], [2, 5, 7], [2, 3, 6], [2, 3, 7], [1, 3, 6], [2, 4, 6], [1, 5, 6], [2, 6, 7], [4, 5, 7], [2, 3, 4], [1, 3, 4], [1, 3, 7], [1, 4, 7], [1, 3, 5], [3, 5, 6], [4, 5, 6], [3, 6, 7], [1, 2, 5], [1, 2, 7], [1, 6, 7], [1, 2, 4], [5, 6, 7], [2, 4, 5], [2, 5, 6], [4, 6, 7], [1, 4, 6], [1, 5, 7], [3, 4, 5], [3, 5, 7]]\n",
      "8\n"
     ]
    }
   ],
   "source": [
    "println(bases(all_matroids[5358]))\n",
    "println(bases(all_matroids[55]))\n",
    "println(bases(all_matroids[3258]))\n",
    "println(getrank(subs, subs[5358]))"
   ]
  },
  {
   "cell_type": "code",
   "execution_count": null,
   "id": "cc5b149b",
   "metadata": {},
   "outputs": [
    {
     "name": "stdout",
     "output_type": "stream",
     "text": [
      "17859\n",
      "6\n",
      "2\n",
      "Any[13944, nothing, nothing]\n",
      "index 17859\n",
      "[[1, 3, 7], [1, 2, 6], [3, 4, 7], [3, 6, 7], [1, 2, 7], [2, 4, 7], [2, 3, 6], [1, 6, 7], [1, 2, 4], [2, 3, 7], [1, 3, 6], [4, 6, 7], [1, 4, 6], [2, 4, 6], [2, 3, 4], [1, 3, 4]]\n",
      "false\n",
      "[[1, 2, 3, 4, 6, 7], [5]]\n",
      "index 5358\n",
      "[[1, 2, 6], [2, 3, 5], [3, 4, 7], [2, 5, 7], [2, 3, 6], [2, 3, 7], [1, 3, 6], [2, 4, 6], [1, 5, 6], [2, 6, 7], [4, 5, 7], [2, 3, 4], [1, 3, 4], [1, 3, 7], [1, 4, 7], [1, 3, 5], [3, 5, 6], [4, 5, 6], [3, 6, 7], [1, 2, 5], [1, 2, 7], [1, 6, 7], [1, 2, 4], [5, 6, 7], [2, 4, 5], [4, 6, 7], [1, 4, 6], [1, 5, 7], [3, 4, 5]]\n",
      "true\n",
      "[[1, 2, 3, 4, 5, 6, 7]]\n",
      "index 5568\n",
      "[[1, 2, 6], [2, 3, 5], [3, 4, 7], [2, 5, 7], [2, 3, 6], [2, 3, 7], [1, 3, 6], [2, 4, 6], [1, 5, 6], [2, 6, 7], [4, 5, 7], [2, 3, 4], [1, 3, 4], [1, 3, 7], [1, 4, 7], [1, 3, 5], [3, 5, 6], [4, 5, 6], [3, 6, 7], [1, 2, 5], [1, 2, 7], [1, 2, 4], [5, 6, 7], [2, 4, 5], [4, 6, 7], [1, 4, 6], [1, 5, 7], [3, 4, 5]]\n",
      "true\n",
      "[[1, 2, 3, 4, 5, 6, 7]]\n",
      "index 4728\n",
      "[[1, 2, 6], [2, 3, 5], [3, 4, 7], [2, 5, 7], [2, 3, 6], [2, 3, 7], [1, 3, 6], [2, 4, 6], [1, 5, 6], [2, 6, 7], [4, 5, 7], [2, 3, 4], [1, 3, 4], [1, 3, 7], [1, 4, 7], [1, 3, 5], [3, 5, 6], [4, 5, 6], [3, 6, 7], [1, 2, 5], [1, 2, 7], [1, 6, 7], [1, 2, 4], [5, 6, 7], [2, 4, 5], [2, 5, 6], [4, 6, 7], [1, 4, 6], [1, 5, 7], [3, 4, 5]]\n",
      "true\n",
      "[[1, 2, 3, 4, 5, 6, 7]]\n",
      "index 13944\n",
      "[[1, 2, 6], [3, 4, 7], [2, 4, 7], [2, 5, 7], [2, 3, 6], [2, 3, 7], [1, 3, 6], [2, 4, 6], [2, 3, 4], [1, 3, 4], [1, 3, 7], [3, 5, 6], [4, 5, 6], [3, 6, 7], [1, 2, 7], [1, 6, 7], [1, 2, 4], [5, 6, 7], [2, 4, 5], [2, 5, 6], [4, 6, 7], [1, 4, 6], [3, 4, 5], [3, 5, 7]]\n",
      "true\n",
      "[[1, 2, 3, 4, 5, 6, 7]]\n",
      "index 4098\n",
      "[[1, 2, 6], [2, 3, 5], [3, 4, 7], [2, 5, 7], [2, 3, 6], [2, 3, 7], [1, 3, 6], [2, 4, 6], [1, 5, 6], [2, 6, 7], [4, 5, 7], [2, 3, 4], [1, 3, 4], [1, 3, 7], [1, 4, 7], [1, 3, 5], [3, 5, 6], [4, 5, 6], [3, 6, 7], [1, 2, 5], [1, 2, 7], [1, 6, 7], [1, 2, 4], [2, 4, 5], [2, 5, 6], [4, 6, 7], [1, 4, 6], [1, 5, 7], [3, 4, 5], [3, 5, 7]]\n",
      "true\n",
      "[[1, 2, 3, 4, 5, 6, 7]]\n",
      "index 3258\n",
      "[[1, 2, 6], [2, 3, 5], [3, 4, 7], [2, 5, 7], [2, 3, 6], [2, 3, 7], [1, 3, 6], [2, 4, 6], [1, 5, 6], [2, 6, 7], [4, 5, 7], [2, 3, 4], [1, 3, 4], [1, 3, 7], [1, 4, 7], [1, 3, 5], [3, 5, 6], [4, 5, 6], [3, 6, 7], [1, 2, 5], [1, 2, 7], [1, 6, 7], [1, 2, 4], [5, 6, 7], [2, 4, 5], [2, 5, 6], [4, 6, 7], [1, 4, 6], [1, 5, 7], [3, 4, 5], [3, 5, 7]]\n",
      "true\n",
      "[[1, 2, 3, 4, 5, 6, 7]]\n",
      "true\n"
     ]
    }
   ],
   "source": [
    "t = []\n",
    "function getchain(p, x, y)\n",
    "    i = findfirst(z -> x < z < y, p)\n",
    "    push!(t,i)\n",
    "    i === nothing ? 1 : getchain(p, x, p[i]) + getchain(p, p[i], y)\n",
    "end\n",
    "#getchain(subs, subs[1], subs[3258])\n",
    "println(find_min(subs, subs[4728], subs[13944]))\n",
    "println(getrank(subs, subs[17859]))\n",
    "println(getchain(subs, subs[17859], subs[4098]))\n",
    "println(t)\n",
    "#println((subs, subs[4728], subs[32408]))\n",
    "list_relevant = [17859, 5358, 5568, 4728, 13944, 4098, 3258]\n",
    "for index in list_relevant\n",
    "    print(\"index \")\n",
    "    println(index)\n",
    "    println(bases(all_matroids[index]))\n",
    "    println(is_connected(all_matroids[index-1]))\n",
    "    println(connected_components(all_matroids[index]))\n",
    "end\n",
    "getdist(subs, subs[17859], subs[5358])\n",
    "println(subs[4098] < subs[3258])"
   ]
  },
  {
   "cell_type": "code",
   "execution_count": 14,
   "id": "652f102e",
   "metadata": {},
   "outputs": [],
   "source": [
    "using Oscar\n",
    "using Combinatorics\n",
    "n_elements = 7;\n",
    "rk = 3;\n",
    "db = Polymake.Polydb.get_db();\n",
    "collection = db[\"Matroids.Small\"];\n",
    "query = Dict(\"RANK\"=>rk,\"N_ELEMENTS\"=>n_elements, \"SIMPLE\"=>true);\n",
    "results = Polymake.Polydb.find(collection, query);\n",
    "oscar_matroids2 = [Matroid(pm) for pm in results];"
   ]
  },
  {
   "cell_type": "code",
   "execution_count": null,
   "id": "43371a75",
   "metadata": {},
   "outputs": [
    {
     "name": "stdout",
     "output_type": "stream",
     "text": [
      "8389\n"
     ]
    }
   ],
   "source": [
    "all_matroids2 =Matroid[];\n",
    "counter =0\n",
    "ground_set = [i for i in 1:n_elements];\n",
    "permuts = permutations(ground_set);\n",
    "for m in oscar_matroids2\n",
    "    iso= [];\n",
    "    for perm in permuts\n",
    "        #println(\"current permutation is\")\n",
    "        #println(perm)\n",
    "        current_b = Set();\n",
    "        #println(current_b);\n",
    "\n",
    "        for b in bases(m)\n",
    "            #println(\"current base is\" )\n",
    "            #println(b)\n",
    "            permuted_b = Set()\n",
    "            for e in b\n",
    "                push!(permuted_b, perm[e])\n",
    "            end\n",
    "            push!(current_b, permuted_b);\n",
    "        end\n",
    "        current_b = Set([Set(b) for b in current_b])\n",
    "    if !(current_b in iso)\n",
    "        push!(iso, current_b);\n",
    "        counter = counter +1;\n",
    "            #println(iso)\n",
    "            #println(iso);\n",
    "    end\n",
    "    end \n",
    "    for m in iso\n",
    "        push!(all_matroids2, (matroid_from_bases(m, n_elements)))      \n",
    "    end\n",
    "   \n",
    "end\n",
    "N = length(all_matroids2)\n",
    "println(N)\n",
    "\n",
    "subs2= [SmallBitSet{UInt64}([])]\n",
    "\n",
    "for matroid in all_matroids2\n",
    "    subset = SmallBitSet{UInt64}([])\n",
    "    for basis in bases(matroid)\n",
    "        a = el(basis)\n",
    "        b = [a]\n",
    "        b = SmallBitSet{UInt64}(b)\n",
    "        subset = union(subset, b)\n",
    "    end\n",
    "    push!(subs2, subset) # ????\n",
    "end\n",
    "\n",
    "dummy = matroid_from_bases([[]], n_elements)\n",
    "# insert a dummy to make indices of subs and all_matroids fit. The dummy in subs2 is needed to have an artificial minimum\n",
    "insert!(all_matroids2, 1, dummy)\n"
   ]
  },
  {
   "cell_type": "code",
   "execution_count": 31,
   "id": "76ce2b12",
   "metadata": {},
   "outputs": [
    {
     "data": {
      "text/plain": [
       "5-element Vector{Int64}:\n",
       " 4518\n",
       " 1158\n",
       "    4\n",
       "    3\n",
       "    1"
      ]
     },
     "execution_count": 31,
     "metadata": {},
     "output_type": "execute_result"
    }
   ],
   "source": [
    "hasrank(subs2)\n"
   ]
  },
  {
   "cell_type": "code",
   "execution_count": 81,
   "id": "58d61e0e",
   "metadata": {},
   "outputs": [
    {
     "name": "stdout",
     "output_type": "stream",
     "text": [
      "Any[nothing]\n",
      "8038\n",
      "false\n",
      "1\n",
      "[[1, 2, 6], [2, 3, 5], [2, 4, 7], [2, 3, 6], [3, 4, 6], [2, 3, 7], [1, 3, 6], [1, 5, 6], [2, 6, 7], [4, 5, 7], [2, 3, 4], [1, 3, 4], [4, 5, 6], [1, 3, 7], [1, 3, 5], [1, 4, 7], [3, 6, 7], [1, 2, 5], [1, 2, 7], [1, 6, 7], [1, 2, 4], [5, 6, 7], [2, 4, 5], [2, 5, 6], [4, 6, 7], [1, 4, 6], [1, 5, 7], [3, 4, 5], [3, 5, 7]]\n",
      "[[1, 2, 6], [2, 3, 5], [2, 4, 7], [2, 3, 6], [3, 4, 6], [2, 3, 7], [1, 3, 6], [1, 5, 6], [2, 6, 7], [4, 5, 7], [2, 3, 4], [1, 3, 4], [4, 5, 6], [1, 3, 7], [1, 3, 5], [1, 4, 7], [3, 6, 7], [1, 2, 5], [1, 2, 7], [1, 2, 4], [5, 6, 7], [2, 4, 5], [2, 5, 6], [4, 6, 7], [1, 4, 6], [1, 5, 7], [3, 4, 5], [3, 5, 7]]\n",
      "2568\n"
     ]
    }
   ],
   "source": [
    "function getchain(p, x, y)\n",
    "    t = []\n",
    "    getchain_h(p, x, y, t)\n",
    "    return t\n",
    "end\n",
    "\n",
    "function getchain_h(p, x, y, t)\n",
    "    i = findfirst(z -> x < z < y, p)\n",
    "    push!(t,i)\n",
    "    i === nothing ? 1 : getchain_h(p, x, p[i], t) + getchain_h(p, p[i], y, t)\n",
    "end\n",
    "\n",
    "function find_min2(p, a, b)\n",
    "    minim = 1\n",
    "    for (i, z) in enumerate(p)\n",
    "        if z < a && z < b && p[i]> p[minim] && ! (z == a ) && !(z==b) \n",
    "            minim = i\n",
    "        end\n",
    "    end\n",
    "    return minim\n",
    "end\n",
    "\n",
    "println(getchain(subs2, subs2[8038], subs2[4518]))\n",
    "#find_min2(subs2, subs2[4098], subs2[4728])\n",
    "println(find_min2(subs2, subs2[4518], subs2[1998]))\n",
    "println(subs2[1998]> subs2[5568])\n",
    "println(getrank(subs2, subs2[8038]))\n",
    "println(bases(all_matroids2[5358]))\n",
    "println(bases(all_matroids2[5568]))\n",
    "\n",
    "liste = []\n",
    "for m in subs\n",
    "    if subs2[1998]> m\n",
    "        push!(liste, m)\n",
    "    end\n",
    "end\n",
    "\n",
    "println(length(liste))\n",
    "\n"
   ]
  },
  {
   "cell_type": "code",
   "execution_count": null,
   "id": "0d3654b5",
   "metadata": {},
   "outputs": [
    {
     "name": "stdout",
     "output_type": "stream",
     "text": [
      "1465"
     ]
    }
   ],
   "source": [
    "#get all minimal matroids \n",
    "minimals = []\n",
    "for (i, m) in enumerate(subs2)\n",
    "    if getrank(subs2 ,m )== 1\n",
    "        push!(minimals, i)\n",
    "    end\n",
    "end\n",
    "\n",
    "minimals_con = []\n",
    "\n",
    "for i in minimals\n",
    "    m = all_matroids2[i]\n",
    "    if is_connected(m)\n",
    "        push!(minimals_con,i) \n",
    "    end\n",
    "end\n",
    "print(length(minimals_con))\n"
   ]
  },
  {
   "cell_type": "code",
   "execution_count": null,
   "id": "c974d539",
   "metadata": {},
   "outputs": [
    {
     "name": "stdout",
     "output_type": "stream",
     "text": [
      "1\n",
      "4488\n"
     ]
    }
   ],
   "source": [
    "for (index, o) in enumerate(all_matroids2)\n",
    "    if is_subset(independent_sets(o), independent_sets(all_matroids2[4488])) \n",
    "        println(index)\n",
    "    end\n",
    "end"
   ]
  },
  {
   "cell_type": "code",
   "execution_count": null,
   "id": "a2f3c019",
   "metadata": {},
   "outputs": [
    {
     "name": "stdout",
     "output_type": "stream",
     "text": [
      "[[1, 2, 6], [3, 4, 7], [2, 3, 5], [2, 4, 7], [2, 3, 6], [2, 5, 7], [3, 4, 6], [2, 3, 7], [1, 3, 6], [2, 6, 7], [4, 5, 7], [2, 3, 4], [1, 3, 4], [1, 3, 7], [4, 5, 6], [3, 5, 6], [1, 4, 5], [1, 3, 5], [3, 6, 7], [1, 2, 7], [1, 2, 5], [1, 6, 7], [1, 2, 4], [5, 6, 7], [2, 4, 5], [2, 5, 6], [4, 6, 7], [1, 4, 6], [1, 5, 7], [3, 4, 5]]"
     ]
    }
   ],
   "source": [
    "M = all_matroids2[4488]\n",
    "print(bases(all_matroids2[4488]))\n"
   ]
  },
  {
   "cell_type": "code",
   "execution_count": null,
   "id": "89ebdf6f",
   "metadata": {},
   "outputs": [
    {
     "ename": "LoadError",
     "evalue": "UndefVarError: `matroids` not defined in `Main`\nSuggestion: check for spelling errors or missing imports.",
     "output_type": "error",
     "traceback": [
      "UndefVarError: `matroids` not defined in `Main`\nSuggestion: check for spelling errors or missing imports.",
      "",
      "Stacktrace:",
      " [1] top-level scope",
      "   @ In[216]:1"
     ]
    }
   ],
   "source": []
  }
 ],
 "metadata": {
  "kernelspec": {
   "display_name": "Julia 1.11.4",
   "language": "julia",
   "name": "julia-1.11"
  },
  "language_info": {
   "file_extension": ".jl",
   "mimetype": "application/julia",
   "name": "julia",
   "version": "1.11.4"
  }
 },
 "nbformat": 4,
 "nbformat_minor": 5
}
