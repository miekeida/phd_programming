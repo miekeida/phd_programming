{
 "cells": [
  {
   "cell_type": "code",
   "execution_count": 1,
   "id": "0914a5a0",
   "metadata": {},
   "outputs": [
    {
     "name": "stdout",
     "output_type": "stream",
     "text": [
      "  ___   ____   ____    _    ____\n",
      " / _ \\ / ___| / ___|  / \\  |  _ \\   |  Combining ANTIC, GAP, Polymake, Singular\n",
      "| | | |\\___ \\| |     / _ \\ | |_) |  |  Type \"?Oscar\" for more information\n",
      "| |_| | ___) | |___ / ___ \\|  _ <   |  Manual: https://docs.oscar-system.org\n",
      " \\___/ |____/ \\____/_/   \\_\\_| \\_\\  |  Version 1.3.1\n"
     ]
    }
   ],
   "source": [
    "using Oscar\n",
    "using Combinatorics\n",
    "n_elements = 4;\n",
    "rk = 2;\n",
    "db = Polymake.Polydb.get_db();\n",
    "collection = db[\"Matroids.Small\"];\n",
    "query = Dict(\"RANK\"=>rk,\"N_ELEMENTS\"=>n_elements);\n",
    "results = Polymake.Polydb.find(collection, query);\n",
    "oscar_matroids = [Matroid(pm) for pm in results];"
   ]
  },
  {
   "cell_type": "code",
   "execution_count": 2,
   "id": "16c1e2f8",
   "metadata": {},
   "outputs": [],
   "source": [
    "struct RankedFlat\n",
    "    set:: Set\n",
    "    rank::Int\n",
    "end "
   ]
  },
  {
   "cell_type": "code",
   "execution_count": 3,
   "id": "c88a28f4",
   "metadata": {},
   "outputs": [],
   "source": [
    "struct NestedMatroid\n",
    "    cflats::Vector{RankedFlat}\n",
    "end"
   ]
  },
  {
   "cell_type": "code",
   "execution_count": 29,
   "id": "5aea36ca",
   "metadata": {},
   "outputs": [
    {
     "ename": "LoadError",
     "evalue": "MethodError: no method matching length(::typeof(circuits))\nThe function `length` exists, but no method is defined for this combination of argument types.\n\n\u001b[0mClosest candidates are:\n\u001b[0m  length(\u001b[91m::Singular.sordering\u001b[39m)\n\u001b[0m\u001b[90m   @\u001b[39m \u001b[32mSingular\u001b[39m \u001b[90m~/.julia/packages/Singular/sh9V0/src/poly/\u001b[39m\u001b[90m\u001b[4morderings.jl:393\u001b[24m\u001b[39m\n\u001b[0m  length(\u001b[91m::Oscar.GAPGroupTableOfMarks\u001b[39m)\n\u001b[0m\u001b[90m   @\u001b[39m \u001b[33mOscar\u001b[39m \u001b[90m~/.julia/packages/Oscar/Z2pwW/src/Groups/\u001b[39m\u001b[90m\u001b[4mtom.jl:323\u001b[24m\u001b[39m\n\u001b[0m  length(\u001b[91m::Markdown.MD\u001b[39m)\n\u001b[0m\u001b[90m   @\u001b[39m \u001b[35mMarkdown\u001b[39m \u001b[90m~/.julia/juliaup/julia-1.11.4+0.x64.linux.gnu/share/julia/stdlib/v1.11/Markdown/src/parse/\u001b[39m\u001b[90m\u001b[4mparse.jl:37\u001b[24m\u001b[39m\n\u001b[0m  ...\n",
     "output_type": "error",
     "traceback": [
      "MethodError: no method matching length(::typeof(circuits))\nThe function `length` exists, but no method is defined for this combination of argument types.\n\n\u001b[0mClosest candidates are:\n\u001b[0m  length(\u001b[91m::Singular.sordering\u001b[39m)\n\u001b[0m\u001b[90m   @\u001b[39m \u001b[32mSingular\u001b[39m \u001b[90m~/.julia/packages/Singular/sh9V0/src/poly/\u001b[39m\u001b[90m\u001b[4morderings.jl:393\u001b[24m\u001b[39m\n\u001b[0m  length(\u001b[91m::Oscar.GAPGroupTableOfMarks\u001b[39m)\n\u001b[0m\u001b[90m   @\u001b[39m \u001b[33mOscar\u001b[39m \u001b[90m~/.julia/packages/Oscar/Z2pwW/src/Groups/\u001b[39m\u001b[90m\u001b[4mtom.jl:323\u001b[24m\u001b[39m\n\u001b[0m  length(\u001b[91m::Markdown.MD\u001b[39m)\n\u001b[0m\u001b[90m   @\u001b[39m \u001b[35mMarkdown\u001b[39m \u001b[90m~/.julia/juliaup/julia-1.11.4+0.x64.linux.gnu/share/julia/stdlib/v1.11/Markdown/src/parse/\u001b[39m\u001b[90m\u001b[4mparse.jl:37\u001b[24m\u001b[39m\n\u001b[0m  ...\n",
      "",
      "Stacktrace:",
      " [1] combinations(a::Function, t::Int64)",
      "   @ Combinatorics ~/.julia/packages/Combinatorics/Udg6X/src/combinations.jl:0",
      " [2] is_union(seth::Set{Int64}, sets::Vector{Set{Int64}})",
      "   @ Main ./In[29]:8",
      " [3] top-level scope",
      "   @ In[29]:21"
     ]
    }
   ],
   "source": [
    "N_coordinates = []\n",
    "# finde alle Nested matroiden auf der Menge\n",
    "# erstelle eine Liste L von chains of cyclic flats die möglich sind\n",
    "L = []\n",
    "\n",
    "function is_union(seth, sets)\n",
    "    for r in 1:length(seth)\n",
    "        for combination in combinations(circuits, r)\n",
    "            union_set = union(combination...)  # splat mit ...\n",
    "            if union_set == Set(seth)\n",
    "                    return true\n",
    "            end\n",
    "        end\n",
    "        \n",
    "    end\n",
    "    return false\n",
    "end\n",
    "\n",
    "setk = Set([1,2,3])\n",
    "setes = [Set([1]), Set([2,3])]\n",
    "is_union(setk, setes)\n",
    "\n",
    "\n",
    "\n",
    "            \n",
    "\n",
    "\n",
    "#find out the cyclic flats\n",
    "#erstelle liste of cyclic flats\n",
    "    #erstelle liste von chains of cyclic flats\n",
    "    #erstelle instanz von poset die cyclic flat-chains erhält\n",
    "    #berechne die möbius function für alle chains of flats\n",
    "    #gehe durch die L und ersetzte L[A] durch den Werte der Möbius function\n"
   ]
  },
  {
   "cell_type": "code",
   "execution_count": null,
   "id": "af987013",
   "metadata": {},
   "outputs": [],
   "source": [
    "function find_cyclic_flats(ranked_flats, circuits)\n",
    "    result = []\n",
    "    for flat in ranked_flats\n",
    "        if is_union_of_circuits(flat.set, circuits)\n",
    "            result.append(flat)\n",
    "    for flat in ranked_flats\n",
    "        if len(flat.set) == 0 \n",
    "            result.append(Ranked_set([], 0))\n",
    "            break\n",
    "        end\n",
    "    return result\n",
    "end\n",
    "\n",
    "for M in oscar_matroids\n",
    "    C_flats = find_cyclic_flats(M)\n",
    "end"
   ]
  }
 ],
 "metadata": {
  "kernelspec": {
   "display_name": "Julia 1.11.4",
   "language": "julia",
   "name": "julia-1.11"
  },
  "language_info": {
   "file_extension": ".jl",
   "mimetype": "application/julia",
   "name": "julia",
   "version": "1.11.4"
  }
 },
 "nbformat": 4,
 "nbformat_minor": 5
}
