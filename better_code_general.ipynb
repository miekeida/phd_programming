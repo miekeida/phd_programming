{
 "cells": [
  {
   "cell_type": "markdown",
   "id": "6c7fa836",
   "metadata": {},
   "source": [
    "This code produces the poset of all weak maps, given a fixed element set\n"
   ]
  },
  {
   "cell_type": "code",
   "execution_count": 17,
   "id": "ae7aebac",
   "metadata": {},
   "outputs": [],
   "source": [
    "using Oscar\n",
    "using Combinatorics\n",
    "n_elements = 7;\n",
    "rk = 3;\n",
    "db = Polymake.Polydb.get_db();\n",
    "collection = db[\"Matroids.Small\"];\n",
    "query = Dict(\"N_ELEMENTS\"=>n_elements);\n",
    "results = Polymake.Polydb.find(collection, query);\n",
    "oscar_matroids = [Matroid(pm) for pm in results];"
   ]
  },
  {
   "cell_type": "code",
   "execution_count": 18,
   "id": "0b4b1c7b",
   "metadata": {},
   "outputs": [
    {
     "name": "stdout",
     "output_type": "stream",
     "text": [
      "37582\n"
     ]
    }
   ],
   "source": [
    "all_matroids =Matroid[];\n",
    "counter =0\n",
    "ground_set = [i for i in 1:n_elements];\n",
    "permuts = permutations(ground_set);\n",
    "for m in oscar_matroids\n",
    "    iso= [];\n",
    "    for perm in permuts\n",
    "        #println(\"current permutation is\")\n",
    "        #println(perm)\n",
    "        current_b = Set();\n",
    "        #println(current_b);\n",
    "\n",
    "        for b in bases(m)\n",
    "            #println(\"current base is\" )\n",
    "            #println(b)\n",
    "            permuted_b = Set()\n",
    "            for e in b\n",
    "                push!(permuted_b, perm[e])\n",
    "            end\n",
    "            push!(current_b, permuted_b);\n",
    "        end\n",
    "        current_b = Set([Set(b) for b in current_b])\n",
    "    if !(current_b in iso)\n",
    "        push!(iso, current_b);\n",
    "        counter = counter +1;\n",
    "            #println(iso)\n",
    "            #println(iso);\n",
    "    end\n",
    "    end \n",
    "    for m in iso\n",
    "        push!(all_matroids, (matroid_from_bases(m, n_elements)))      \n",
    "    end\n",
    "   \n",
    "end\n",
    "N = length(all_matroids)\n",
    "println(N)"
   ]
  },
  {
   "cell_type": "code",
   "execution_count": 22,
   "id": "6de60ece",
   "metadata": {},
   "outputs": [
    {
     "name": "stdout",
     "output_type": "stream",
     "text": [
      "SmallBitSet{UInt64}([2])\n"
     ]
    },
    {
     "data": {
      "text/plain": [
       "2048-element Vector{SmallBitSet{UInt32}}:\n",
       " SmallBitSet([])\n",
       " SmallBitSet([1, 2, 5, 9, 11])\n",
       " SmallBitSet([1, 4, 5, 7, 10])\n",
       " SmallBitSet([1, 5, 7, 10, 11])\n",
       " SmallBitSet([2, 4, 5, 7, 8, 11])\n",
       " SmallBitSet([6, 8, 9, 10, 11])\n",
       " SmallBitSet([2, 3, 4, 5, 7, 11])\n",
       " SmallBitSet([1, 2, 7, 8, 9])\n",
       " SmallBitSet([2, 3, 5, 8])\n",
       " SmallBitSet([1, 4, 8, 9, 10])\n",
       " SmallBitSet([1, 2, 4, 6, 7, 8, 9, 10])\n",
       " SmallBitSet([1, 6, 11])\n",
       " SmallBitSet([2, 9, 10, 11])\n",
       " ⋮\n",
       " SmallBitSet([1, 2, 3, 5, 10])\n",
       " SmallBitSet([1, 4, 6, 7, 8, 10, 11])\n",
       " SmallBitSet([1, 3, 8, 9, 10])\n",
       " SmallBitSet([2, 4, 8, 9, 11])\n",
       " SmallBitSet([3, 5, 7])\n",
       " SmallBitSet([2, 3, 4])\n",
       " SmallBitSet([1, 2, 3, 9, 10, 11])\n",
       " SmallBitSet([2, 4, 6])\n",
       " SmallBitSet([3, 7, 8, 9, 10])\n",
       " SmallBitSet([2, 3, 6, 11])\n",
       " SmallBitSet([1, 2, 4, 7, 8])\n",
       " SmallBitSet([2, 6, 10, 11])"
      ]
     },
     "execution_count": 22,
     "metadata": {},
     "output_type": "execute_result"
    }
   ],
   "source": [
    "# check if a poset admits a rank function\n",
    "\n",
    "# The poset p is encoded as a vector of elements that can be compared with <\n",
    "# p must have a least element, stored as p[1]\n",
    "\n",
    "# true if y covers x in p\n",
    "covers(p, y, x) = x < y && !any(z -> x < z < y, p)\n",
    "\n",
    "# the length of some maximal chain in p from p[1] to x\n",
    "getrank(p, x) = x == p[1] ? 0 : getdist(p, p[1], x)\n",
    "\n",
    "# the length of some maximal chain in p from x to y where x < y\n",
    "function getdist(p, x, y)\n",
    "    i = findfirst(z -> x < z < y, p)\n",
    "    i === nothing ? 1 : getdist(p, x, p[i]) + getdist(p, p[i], y)\n",
    "end\n",
    "\n",
    "# true if p has a rank function\n",
    "function hasrank(p)\n",
    "    r = map(x -> getrank(p, x), p)\n",
    "    for (i, x) in enumerate(p), (j, y) in enumerate(p)\n",
    "         !covers(p, y, x) || r[j] == r[i]+1 || return [i, j, r[i], r[j], covers(p, y, x)]\n",
    "    end\n",
    "    true\n",
    "end\n",
    "\n",
    "# example: the poset of all subsets of some set\n",
    "\n",
    "using Random: randperm\n",
    "using SmallCollections: SmallBitSet, subsets\n",
    "\n",
    "const S = SmallBitSet{UInt32}\n",
    "\n",
    "N = 11\n",
    "q = subsets(N) # all subsets of 1:N in colexicographic ordering\n",
    "r = randperm(length(q))\n",
    "println(q[3])\n",
    "# random permutation of all subsets of 1:N, but with the empty set as first element\n",
    "p = S[i == 1 || r[i] == 1 ? q[i] : q[r[i]] for i in 1:length(q)]\n",
    "# for sets, `<` means proper subset\n"
   ]
  },
  {
   "cell_type": "code",
   "execution_count": 23,
   "id": "606ed03a",
   "metadata": {},
   "outputs": [
    {
     "name": "stdout",
     "output_type": "stream",
     "text": [
      "3\n"
     ]
    }
   ],
   "source": [
    "\n",
    "function el(b)\n",
    "    possible_b = subsets(n_elements)\n",
    "    index = -2\n",
    "    for (l, x) in enumerate(possible_b)\n",
    "        if x == SmallBitSet{UInt32}(b)\n",
    "            index = l\n",
    "        end\n",
    "    end\n",
    "    return index\n",
    "end\n",
    "println(el([2]))"
   ]
  },
  {
   "cell_type": "code",
   "execution_count": 25,
   "id": "3cbbb92d",
   "metadata": {},
   "outputs": [
    {
     "data": {
      "text/plain": [
       "5-element Vector{Int64}:\n",
       " 8658\n",
       " 5298\n",
       "   10\n",
       "   10\n",
       "    1"
      ]
     },
     "execution_count": 25,
     "metadata": {},
     "output_type": "execute_result"
    }
   ],
   "source": [
    "subs= [SmallBitSet{UInt128}([])]\n",
    "for matroid in all_matroids\n",
    "    subset = SmallBitSet{UInt128}([])\n",
    "    for basis in bases(matroid)\n",
    "        a = el(basis)\n",
    "        b = [a]\n",
    "        b = SmallBitSet{UInt128}(b)\n",
    "        subset = union(subset, b)\n",
    "    end\n",
    "    push!(subs, subset) # ????\n",
    "end\n",
    "\n",
    "hasrank(subs)"
   ]
  }
 ],
 "metadata": {
  "kernelspec": {
   "display_name": "Julia 1.11.4",
   "language": "julia",
   "name": "julia-1.11"
  },
  "language_info": {
   "file_extension": ".jl",
   "mimetype": "application/julia",
   "name": "julia",
   "version": "1.11.4"
  }
 },
 "nbformat": 4,
 "nbformat_minor": 5
}
